{
 "cells": [
  {
   "cell_type": "code",
   "execution_count": 1,
   "id": "336771ae",
   "metadata": {},
   "outputs": [
    {
     "name": "stderr",
     "output_type": "stream",
     "text": [
      "D:\\Gramener\\anaconda\\envs\\nha_env\\lib\\site-packages\\tqdm\\auto.py:22: TqdmWarning: IProgress not found. Please update jupyter and ipywidgets. See https://ipywidgets.readthedocs.io/en/stable/user_install.html\n",
      "  from .autonotebook import tqdm as notebook_tqdm\n"
     ]
    }
   ],
   "source": [
    "from transformers import AutoModelForImageClassification, AutoFeatureExtractor\n"
   ]
  },
  {
   "cell_type": "code",
   "execution_count": 3,
   "id": "1c8db5fa",
   "metadata": {
    "scrolled": true
   },
   "outputs": [
    {
     "name": "stderr",
     "output_type": "stream",
     "text": [
      "Downloading: 100%|██████████████████████████████████████████████████████████████████████████| 327M/327M [02:12<00:00, 2.60MB/s]\n"
     ]
    }
   ],
   "source": [
    "# extractor = AutoFeatureExtractor.from_pretrained(\"shivarama23/DiT_image_quality\")\n",
    "\n",
    "model = AutoModelForImageClassification.from_pretrained(\"shivarama23/DiT_image_quality\")"
   ]
  },
  {
   "cell_type": "code",
   "execution_count": 2,
   "id": "31461017",
   "metadata": {},
   "outputs": [],
   "source": [
    "extractor = AutoFeatureExtractor.from_pretrained(\"shivarama23/DiT_image_quality\")"
   ]
  },
  {
   "cell_type": "code",
   "execution_count": null,
   "id": "248b80cb",
   "metadata": {},
   "outputs": [],
   "source": []
  }
 ],
 "metadata": {
  "kernelspec": {
   "display_name": "Python 3 (ipykernel)",
   "language": "python",
   "name": "python3"
  },
  "language_info": {
   "codemirror_mode": {
    "name": "ipython",
    "version": 3
   },
   "file_extension": ".py",
   "mimetype": "text/x-python",
   "name": "python",
   "nbconvert_exporter": "python",
   "pygments_lexer": "ipython3",
   "version": "3.9.12"
  }
 },
 "nbformat": 4,
 "nbformat_minor": 5
}
